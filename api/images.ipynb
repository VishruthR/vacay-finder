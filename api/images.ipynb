{
 "cells": [
  {
   "cell_type": "code",
   "execution_count": null,
   "metadata": {},
   "outputs": [],
   "source": [
    "%pip install scrapy"
   ]
  },
  {
   "cell_type": "code",
   "execution_count": 1,
   "metadata": {},
   "outputs": [
    {
     "name": "stdout",
     "output_type": "stream",
     "text": [
      "https://www.tripadvisor.com/Tourism-\n"
     ]
    }
   ],
   "source": [
    "import scrapy\n",
    "import urllib.request\n",
    "# use TripAdvisor to get aesthetic images of different places\n",
    "start_urls = [\n",
    "    'https://www.tripadvisor.com/Tourism-g60933',\n",
    "    'https://www.tripadvisor.com/Tourism-g60974'\n",
    "]\n",
    "\n",
    "dest = input(\"destination id: \").lower()\n",
    "url1 = 'https://www.tripadvisor.com/Tourism-' + dest\n",
    "url2 = 'https://www.tripadvisor.com/Search?q=' + dest\n",
    "\n",
    "print(url)\n",
    "\n",
    "site = urllib.request.urlopen(start_urls[0])\n",
    "\n",
    "\n",
    "\n",
    "class ImageSpider(scrapy.Spider):\n",
    "    name = \"images\"\n",
    "    def parse(self, response):\n",
    "        title = response.css('span.biGQs._P.ttuOS::text').extract()\n",
    "        print(title)\n",
    "\n",
    "\n"
   ]
  },
  {
   "cell_type": "code",
   "execution_count": null,
   "metadata": {},
   "outputs": [],
   "source": []
  }
 ],
 "metadata": {
  "kernelspec": {
   "display_name": "Python 3",
   "language": "python",
   "name": "python3"
  },
  "language_info": {
   "codemirror_mode": {
    "name": "ipython",
    "version": 3
   },
   "file_extension": ".py",
   "mimetype": "text/x-python",
   "name": "python",
   "nbconvert_exporter": "python",
   "pygments_lexer": "ipython3",
   "version": "3.9.6"
  },
  "orig_nbformat": 4
 },
 "nbformat": 4,
 "nbformat_minor": 2
}
