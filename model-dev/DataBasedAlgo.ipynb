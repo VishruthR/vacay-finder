{
 "cells": [
  {
   "attachments": {},
   "cell_type": "markdown",
   "metadata": {},
   "source": [
    "Source: https://github.com/eliasmelul/finding_schitts/blob/master/Recommender_System_FMSC.ipynb"
   ]
  },
  {
   "cell_type": "code",
   "execution_count": 6,
   "metadata": {},
   "outputs": [
    {
     "name": "stdout",
     "output_type": "stream",
     "text": [
      "Requirement already satisfied: pandas in c:\\users\\vishr\\vscodeprojects\\cs 222\\project\\api\\lib\\site-packages (1.5.3)\n",
      "Requirement already satisfied: pytz>=2020.1 in c:\\users\\vishr\\vscodeprojects\\cs 222\\project\\api\\lib\\site-packages (from pandas) (2022.7.1)\n",
      "Requirement already satisfied: numpy>=1.20.3 in c:\\users\\vishr\\vscodeprojects\\cs 222\\project\\api\\lib\\site-packages (from pandas) (1.24.2)\n",
      "Requirement already satisfied: python-dateutil>=2.8.1 in c:\\users\\vishr\\vscodeprojects\\cs 222\\project\\api\\lib\\site-packages (from pandas) (2.8.2)\n",
      "Requirement already satisfied: six>=1.5 in c:\\users\\vishr\\vscodeprojects\\cs 222\\project\\api\\lib\\site-packages (from python-dateutil>=2.8.1->pandas) (1.16.0)\n",
      "Note: you may need to restart the kernel to use updated packages.\n"
     ]
    },
    {
     "name": "stderr",
     "output_type": "stream",
     "text": [
      "WARNING: You are using pip version 22.0.4; however, version 23.0.1 is available.\n",
      "You should consider upgrading via the 'c:\\Users\\vishr\\VSCodeProjects\\CS 222\\Project\\api\\Scripts\\python.exe -m pip install --upgrade pip' command.\n"
     ]
    },
    {
     "name": "stdout",
     "output_type": "stream",
     "text": [
      "Requirement already satisfied: scikit-learn in c:\\users\\vishr\\vscodeprojects\\cs 222\\project\\api\\lib\\site-packages (1.2.1)\n",
      "Requirement already satisfied: scipy>=1.3.2 in c:\\users\\vishr\\vscodeprojects\\cs 222\\project\\api\\lib\\site-packages (from scikit-learn) (1.10.1)\n",
      "Requirement already satisfied: numpy>=1.17.3 in c:\\users\\vishr\\vscodeprojects\\cs 222\\project\\api\\lib\\site-packages (from scikit-learn) (1.24.2)\n",
      "Requirement already satisfied: joblib>=1.1.1 in c:\\users\\vishr\\vscodeprojects\\cs 222\\project\\api\\lib\\site-packages (from scikit-learn) (1.2.0)\n",
      "Requirement already satisfied: threadpoolctl>=2.0.0 in c:\\users\\vishr\\vscodeprojects\\cs 222\\project\\api\\lib\\site-packages (from scikit-learn) (3.1.0)\n",
      "Note: you may need to restart the kernel to use updated packages.\n"
     ]
    },
    {
     "name": "stderr",
     "output_type": "stream",
     "text": [
      "WARNING: You are using pip version 22.0.4; however, version 23.0.1 is available.\n",
      "You should consider upgrading via the 'c:\\Users\\vishr\\VSCodeProjects\\CS 222\\Project\\api\\Scripts\\python.exe -m pip install --upgrade pip' command.\n"
     ]
    },
    {
     "name": "stdout",
     "output_type": "stream",
     "text": [
      "Collecting matplotlib\n",
      "  Downloading matplotlib-3.7.1-cp39-cp39-win_amd64.whl (7.6 MB)\n",
      "     ---------------------------------------- 7.6/7.6 MB 2.4 MB/s eta 0:00:00\n",
      "Collecting pyparsing>=2.3.1\n",
      "  Using cached pyparsing-3.0.9-py3-none-any.whl (98 kB)\n",
      "Requirement already satisfied: numpy>=1.20 in c:\\users\\vishr\\vscodeprojects\\cs 222\\project\\api\\lib\\site-packages (from matplotlib) (1.24.2)\n",
      "Requirement already satisfied: packaging>=20.0 in c:\\users\\vishr\\vscodeprojects\\cs 222\\project\\api\\lib\\site-packages (from matplotlib) (23.0)\n",
      "Requirement already satisfied: python-dateutil>=2.7 in c:\\users\\vishr\\vscodeprojects\\cs 222\\project\\api\\lib\\site-packages (from matplotlib) (2.8.2)\n",
      "Collecting kiwisolver>=1.0.1\n",
      "  Downloading kiwisolver-1.4.4-cp39-cp39-win_amd64.whl (55 kB)\n",
      "     ---------------------------------------- 55.4/55.4 KB 2.8 MB/s eta 0:00:00\n",
      "Collecting cycler>=0.10\n",
      "  Using cached cycler-0.11.0-py3-none-any.whl (6.4 kB)\n",
      "Collecting contourpy>=1.0.1\n",
      "  Downloading contourpy-1.0.7-cp39-cp39-win_amd64.whl (160 kB)\n",
      "     -------------------------------------- 160.2/160.2 KB 3.3 MB/s eta 0:00:00\n",
      "Collecting importlib-resources>=3.2.0\n",
      "  Downloading importlib_resources-5.12.0-py3-none-any.whl (36 kB)\n",
      "Collecting pillow>=6.2.0\n",
      "  Downloading Pillow-9.4.0-cp39-cp39-win_amd64.whl (2.5 MB)\n",
      "     ---------------------------------------- 2.5/2.5 MB 22.8 MB/s eta 0:00:00\n",
      "Collecting fonttools>=4.22.0\n",
      "  Downloading fonttools-4.39.0-py3-none-any.whl (1.0 MB)\n",
      "     ---------------------------------------- 1.0/1.0 MB 32.1 MB/s eta 0:00:00\n",
      "Requirement already satisfied: zipp>=3.1.0 in c:\\users\\vishr\\vscodeprojects\\cs 222\\project\\api\\lib\\site-packages (from importlib-resources>=3.2.0->matplotlib) (3.14.0)\n",
      "Requirement already satisfied: six>=1.5 in c:\\users\\vishr\\vscodeprojects\\cs 222\\project\\api\\lib\\site-packages (from python-dateutil>=2.7->matplotlib) (1.16.0)\n",
      "Installing collected packages: pyparsing, pillow, kiwisolver, importlib-resources, fonttools, cycler, contourpy, matplotlib\n",
      "Successfully installed contourpy-1.0.7 cycler-0.11.0 fonttools-4.39.0 importlib-resources-5.12.0 kiwisolver-1.4.4 matplotlib-3.7.1 pillow-9.4.0 pyparsing-3.0.9\n",
      "Note: you may need to restart the kernel to use updated packages.\n"
     ]
    },
    {
     "name": "stderr",
     "output_type": "stream",
     "text": [
      "WARNING: You are using pip version 22.0.4; however, version 23.0.1 is available.\n",
      "You should consider upgrading via the 'c:\\Users\\vishr\\VSCodeProjects\\CS 222\\Project\\api\\Scripts\\python.exe -m pip install --upgrade pip' command.\n"
     ]
    }
   ],
   "source": [
    "%pip install pandas\n",
    "%pip install scikit-learn\n",
    "%pip install matplotlib"
   ]
  },
  {
   "cell_type": "code",
   "execution_count": 7,
   "metadata": {},
   "outputs": [],
   "source": [
    "import pandas as pd\n",
    "from sklearn.metrics.pairwise import cosine_similarity\n",
    "\n",
    "%matplotlib inline"
   ]
  },
  {
   "cell_type": "code",
   "execution_count": 11,
   "metadata": {},
   "outputs": [],
   "source": [
    "norm_df = pd.read_csv('https://s3.us-east-2.amazonaws.com/www.findingmyschittscreek.com/Data/normalized_df_sub.csv', index_col=0)"
   ]
  },
  {
   "cell_type": "code",
   "execution_count": 12,
   "metadata": {},
   "outputs": [],
   "source": [
    "def from_city_cosSim(data, name):\n",
    "\n",
    "    try:\n",
    "        Xs = data[data.City == name].drop('City',1)\n",
    "        Col_A = data[data.City != name].City\n",
    "        Ys = data[data.City != name].drop('City',1)\n",
    "\n",
    "        cosSim = cosine_similarity(X=Xs,Y=Ys)\n",
    "        sim = list(cosSim[0])\n",
    "        cty = list(Col_A)\n",
    "        comb = {\"City\":cty,\"Similarity\":sim}\n",
    "        dfdf = pd.DataFrame(comb).reset_index()\n",
    "\n",
    "        # Adding a row with the Y City\n",
    "        currCity = {\"City\":name,\"Similarity\":1}\n",
    "        curr = pd.DataFrame(currCity, index=[0])\n",
    "\n",
    "        # Concatenate to finalize DF\n",
    "        dfdf = pd.concat([dfdf,curr], sort=False).reset_index(drop=True).drop('index',1)\n",
    "        return(dfdf)\n",
    "    except:\n",
    "        print(\"Wrong input: this entry will be ignored\")"
   ]
  },
  {
   "cell_type": "code",
   "execution_count": 13,
   "metadata": {},
   "outputs": [],
   "source": [
    "\n",
    "\n",
    "def input_cities(numShow=10):\n",
    "    # create class that defines cities\n",
    "    class rated_city:\n",
    "        def __init__(self, city):\n",
    "            self.city = city\n",
    "    \n",
    "    #Loop to input cities based on the user\n",
    "    add_city = True\n",
    "    userInput = []\n",
    "    w = 0\n",
    "    while add_city == True:\n",
    "        city_name = input(\"City (Include state - Ex. New York, NY): \")\n",
    "        userInput.append(city_name)\n",
    "        simSim = from_city_cosSim(data=norm_df, name=city_name)\n",
    "        try:\n",
    "            cosSim = cosSim.merge(simSim, how='inner', on='City')\n",
    "        except:\n",
    "            cosSim = simSim\n",
    "        \n",
    "        city = rated_city(city_name)\n",
    "        cont = input(\"Do you want to include another city?\")\n",
    "        add_city = cont.lower() in ['yes','true','of course','y','si','1']\n",
    "        w+=1\n",
    "    \n",
    "    simCols = cosSim.drop(\"City\",1)\n",
    "    cits = cosSim.City\n",
    "        \n",
    "    for i, row in simCols.iterrows():\n",
    "        simCols.at[i,'SumVal'] = row.sum()/w\n",
    "    simi = simCols.SumVal\n",
    "    \n",
    "    out = {\"City\":cits,\"Score\":simi}\n",
    "    out = pd.DataFrame(out).set_index(\"City\").drop(userInput)\n",
    "    out = out.sort_values('Score', ascending=False)\n",
    "    \n",
    "    return out.head(numShow)      \n",
    "\n"
   ]
  },
  {
   "cell_type": "code",
   "execution_count": 14,
   "metadata": {},
   "outputs": [
    {
     "name": "stderr",
     "output_type": "stream",
     "text": [
      "C:\\Users\\vishr\\AppData\\Local\\Temp\\ipykernel_64924\\2510333559.py:4: FutureWarning: In a future version of pandas all arguments of DataFrame.drop except for the argument 'labels' will be keyword-only.\n",
      "  Xs = data[data.City == name].drop('City',1)\n",
      "C:\\Users\\vishr\\AppData\\Local\\Temp\\ipykernel_64924\\2510333559.py:6: FutureWarning: In a future version of pandas all arguments of DataFrame.drop except for the argument 'labels' will be keyword-only.\n",
      "  Ys = data[data.City != name].drop('City',1)\n",
      "C:\\Users\\vishr\\AppData\\Local\\Temp\\ipykernel_64924\\2510333559.py:19: FutureWarning: In a future version of pandas all arguments of DataFrame.drop except for the argument 'labels' will be keyword-only.\n",
      "  dfdf = pd.concat([dfdf,curr], sort=False).reset_index(drop=True).drop('index',1)\n",
      "C:\\Users\\vishr\\AppData\\Local\\Temp\\ipykernel_64924\\2353394123.py:25: FutureWarning: In a future version of pandas all arguments of DataFrame.drop except for the argument 'labels' will be keyword-only.\n",
      "  simCols = cosSim.drop(\"City\",1)\n"
     ]
    },
    {
     "data": {
      "text/html": [
       "<div>\n",
       "<style scoped>\n",
       "    .dataframe tbody tr th:only-of-type {\n",
       "        vertical-align: middle;\n",
       "    }\n",
       "\n",
       "    .dataframe tbody tr th {\n",
       "        vertical-align: top;\n",
       "    }\n",
       "\n",
       "    .dataframe thead th {\n",
       "        text-align: right;\n",
       "    }\n",
       "</style>\n",
       "<table border=\"1\" class=\"dataframe\">\n",
       "  <thead>\n",
       "    <tr style=\"text-align: right;\">\n",
       "      <th></th>\n",
       "      <th>Score</th>\n",
       "    </tr>\n",
       "    <tr>\n",
       "      <th>City</th>\n",
       "      <th></th>\n",
       "    </tr>\n",
       "  </thead>\n",
       "  <tbody>\n",
       "    <tr>\n",
       "      <th>Chicago, IL</th>\n",
       "      <td>0.799584</td>\n",
       "    </tr>\n",
       "    <tr>\n",
       "      <th>Seattle, WA</th>\n",
       "      <td>0.760618</td>\n",
       "    </tr>\n",
       "    <tr>\n",
       "      <th>Washington, DC</th>\n",
       "      <td>0.760189</td>\n",
       "    </tr>\n",
       "    <tr>\n",
       "      <th>Philadelphia, PA</th>\n",
       "      <td>0.747166</td>\n",
       "    </tr>\n",
       "    <tr>\n",
       "      <th>Pittsburgh, PA</th>\n",
       "      <td>0.746654</td>\n",
       "    </tr>\n",
       "    <tr>\n",
       "      <th>Minneapolis, MN</th>\n",
       "      <td>0.743887</td>\n",
       "    </tr>\n",
       "    <tr>\n",
       "      <th>Modesto, CA</th>\n",
       "      <td>0.726210</td>\n",
       "    </tr>\n",
       "    <tr>\n",
       "      <th>Baltimore, MD</th>\n",
       "      <td>0.724874</td>\n",
       "    </tr>\n",
       "    <tr>\n",
       "      <th>Tampa, FL</th>\n",
       "      <td>0.720664</td>\n",
       "    </tr>\n",
       "    <tr>\n",
       "      <th>Los Angeles, CA</th>\n",
       "      <td>0.717961</td>\n",
       "    </tr>\n",
       "  </tbody>\n",
       "</table>\n",
       "</div>"
      ],
      "text/plain": [
       "                     Score\n",
       "City                      \n",
       "Chicago, IL       0.799584\n",
       "Seattle, WA       0.760618\n",
       "Washington, DC    0.760189\n",
       "Philadelphia, PA  0.747166\n",
       "Pittsburgh, PA    0.746654\n",
       "Minneapolis, MN   0.743887\n",
       "Modesto, CA       0.726210\n",
       "Baltimore, MD     0.724874\n",
       "Tampa, FL         0.720664\n",
       "Los Angeles, CA   0.717961"
      ]
     },
     "execution_count": 14,
     "metadata": {},
     "output_type": "execute_result"
    }
   ],
   "source": [
    "\n",
    "input_cities()"
   ]
  },
  {
   "cell_type": "code",
   "execution_count": null,
   "metadata": {},
   "outputs": [],
   "source": []
  }
 ],
 "metadata": {
  "kernelspec": {
   "display_name": "api",
   "language": "python",
   "name": "python3"
  },
  "language_info": {
   "codemirror_mode": {
    "name": "ipython",
    "version": 3
   },
   "file_extension": ".py",
   "mimetype": "text/x-python",
   "name": "python",
   "nbconvert_exporter": "python",
   "pygments_lexer": "ipython3",
   "version": "3.9.13"
  },
  "orig_nbformat": 4
 },
 "nbformat": 4,
 "nbformat_minor": 2
}
